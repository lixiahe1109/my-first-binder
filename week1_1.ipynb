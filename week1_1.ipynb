import numpy
from scipy import stats
x1=int(input())
x2=int(input())
x3=int(input())
x4=int(input())
x=numpy.array([x1,x2,x3,x4])
y=numpy.array([0,10,7,25])
print(stats.linregress(x,y))
